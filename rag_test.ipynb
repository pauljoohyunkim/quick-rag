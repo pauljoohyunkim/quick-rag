{
 "cells": [
  {
   "cell_type": "code",
   "execution_count": null,
   "id": "7b8f73bb",
   "metadata": {},
   "outputs": [],
   "source": [
    "import rag"
   ]
  },
  {
   "cell_type": "code",
   "execution_count": null,
   "id": "f3c46249",
   "metadata": {},
   "outputs": [],
   "source": [
    "rs = rag.RAG(\"some.pdf\", \"llama3.2:3b\")\n",
    "rs.embed_data(\"nomic-embed-text\")"
   ]
  },
  {
   "cell_type": "code",
   "execution_count": null,
   "id": "c254c1c5",
   "metadata": {},
   "outputs": [],
   "source": [
    "print(rs.ask(\"Does the laptop support Windows? What about Linux?\"))"
   ]
  },
  {
   "cell_type": "code",
   "execution_count": null,
   "id": "5860e40b",
   "metadata": {},
   "outputs": [],
   "source": []
  }
 ],
 "metadata": {
  "kernelspec": {
   "display_name": ".venv",
   "language": "python",
   "name": "python3"
  },
  "language_info": {
   "codemirror_mode": {
    "name": "ipython",
    "version": 3
   },
   "file_extension": ".py",
   "mimetype": "text/x-python",
   "name": "python",
   "nbconvert_exporter": "python",
   "pygments_lexer": "ipython3",
   "version": "3.13.7"
  }
 },
 "nbformat": 4,
 "nbformat_minor": 5
}
